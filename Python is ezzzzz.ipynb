{
 "cells": [
  {
   "cell_type": "markdown",
   "metadata": {},
   "source": [
    "# Beautiful code python"
   ]
  },
  {
   "cell_type": "markdown",
   "metadata": {},
   "source": [
    "## Install Virtualenv"
   ]
  },
  {
   "cell_type": "markdown",
   "metadata": {},
   "source": [
    "```sh\n",
    "sudo apt-get install python3-pip\n",
    "sudo pip3 install virtualenv \n",
    "\n",
    "#using \n",
    "virtuelenv -p python3 venv3\n",
    "\n",
    "#active\n",
    "source venv3/bin/activate\n",
    "\n",
    "#deactivate\n",
    "deactivate\n",
    "```"
   ]
  },
  {
   "cell_type": "markdown",
   "metadata": {},
   "source": [
    "## Writing Great Python Code¶\n",
    "___"
   ]
  },
  {
   "cell_type": "markdown",
   "metadata": {},
   "source": [
    "### Sample Repository"
   ]
  },
  {
   "cell_type": "raw",
   "metadata": {},
   "source": [
    ".\n",
    "├── LICENSE                -> Lawyering up.\n",
    "├── Makefile               -> Generic management tasks.\n",
    "├── README.md              -> Description for repo.\n",
    "├── requirements.txt       -> Development dependencies.\n",
    "├── setup.py               -> Package and distribution management.\n",
    "├── sample                 -> The code of interest.\n",
    "│   ├── core.py\n",
    "│   └── helpers.py\n",
    "├── docs                   -> Package reference documentation.\n",
    "│   ├── conf.py\n",
    "│   ├── index.rst\n",
    "└── tests                  -> Package integration and unit tests.\n",
    "    ├── test_advanced.py\n",
    "    └── test_basic.py"
   ]
  },
  {
   "cell_type": "markdown",
   "metadata": {},
   "source": [
    "### Naming Styles"
   ]
  },
  {
   "cell_type": "markdown",
   "metadata": {},
   "source": [
    " Type        | Examble           \n",
    " ------------- |:-------------:\n",
    " Function      | function, my_function\n",
    " Variable      | x, var, my_variable      \n",
    " Class  | Model, MyClass      \n",
    " Method      | class_method, method\n",
    " Constant      | CONSTANT, MY_CONSTANT, MY_LONG_CONSTANT      \n",
    " Module | module.py, my_module.py    \n",
    " Package | package, mypackage"
   ]
  },
  {
   "cell_type": "markdown",
   "metadata": {},
   "source": [
    "### How to Choose Names"
   ]
  },
  {
   "cell_type": "code",
   "execution_count": 7,
   "metadata": {},
   "outputs": [
    {
     "name": "stdout",
     "output_type": "stream",
     "text": [
      "Smith, John\n",
      "Smith, John\n"
     ]
    },
    {
     "data": {
      "text/plain": [
       "'Smith, John'"
      ]
     },
     "execution_count": 7,
     "metadata": {},
     "output_type": "execute_result"
    }
   ],
   "source": [
    "# Not recommended\n",
    ">>> x = 'John Smith'\n",
    ">>> y, z = x.split()\n",
    ">>> print(z, y, sep=', ')\n",
    "'Smith, John'\n",
    "#---------------------------------------#\n",
    "# Recommended\n",
    ">>> name = 'John Smith'\n",
    ">>> first_name, last_name = name.split()\n",
    ">>> print(last_name, first_name, sep=', ')\n",
    "'Smith, John'"
   ]
  },
  {
   "cell_type": "code",
   "execution_count": 8,
   "metadata": {},
   "outputs": [],
   "source": [
    "# Not recommended\n",
    "def db(x):\n",
    "    return x * 2\n",
    "\n",
    "# Recommended\n",
    "def multiply_by_two(x):\n",
    "    return x * 2"
   ]
  },
  {
   "cell_type": "markdown",
   "metadata": {},
   "source": [
    "## Code Layout"
   ]
  },
  {
   "cell_type": "markdown",
   "metadata": {},
   "source": [
    "### Blank Lines\n",
    "\n",
    "Surround top-level functions and classes with **two blank** lines."
   ]
  },
  {
   "cell_type": "code",
   "execution_count": 9,
   "metadata": {},
   "outputs": [],
   "source": [
    "class MyFirstClass:\n",
    "    pass\n",
    "\n",
    "\n",
    "class MySecondClass:\n",
    "    pass\n",
    "\n",
    "\n",
    "def top_level_function():\n",
    "    return None"
   ]
  },
  {
   "cell_type": "markdown",
   "metadata": {},
   "source": [
    "Surround method definitions inside classes with a **single blank** line."
   ]
  },
  {
   "cell_type": "code",
   "execution_count": 10,
   "metadata": {},
   "outputs": [],
   "source": [
    "class MyClass:\n",
    "    def first_method(self):\n",
    "        return None\n",
    "\n",
    "    def second_method(self):\n",
    "        return None"
   ]
  },
  {
   "cell_type": "markdown",
   "metadata": {},
   "source": [
    "Use blank lines sparingly inside functions to show clear steps."
   ]
  },
  {
   "cell_type": "code",
   "execution_count": 11,
   "metadata": {},
   "outputs": [],
   "source": [
    "def calculate_variance(number_list):\n",
    "    sum_list = 0\n",
    "    for number in number_list:\n",
    "        sum_list = sum_list + number\n",
    "    mean = sum_list / len(number_list)\n",
    "\n",
    "    sum_squares = 0\n",
    "    for number in number_list:\n",
    "        sum_squares = sum_squares + number**2\n",
    "    mean_squares = sum_squares / len(number_list)\n",
    "\n",
    "    return mean_squares - mean**2"
   ]
  },
  {
   "cell_type": "markdown",
   "metadata": {},
   "source": [
    "### Maximum Line Length and Line Breaking"
   ]
  },
  {
   "cell_type": "markdown",
   "metadata": {},
   "source": [
    "***PEP 8*** suggests lines should be limited to ***79 characters***."
   ]
  },
  {
   "cell_type": "code",
   "execution_count": 14,
   "metadata": {},
   "outputs": [],
   "source": [
    "from numpy import arange, \\\n",
    "    cos, sin\n",
    "\n",
    "\n",
    "def function(arg_one, arg_two,\n",
    "             arg_three, arg_four):\n",
    "    return arg_one"
   ]
  },
  {
   "cell_type": "markdown",
   "metadata": {},
   "source": [
    "Rule stems from mathematics"
   ]
  },
  {
   "cell_type": "code",
   "execution_count": 16,
   "metadata": {},
   "outputs": [],
   "source": [
    "first_variable = 0\n",
    "second_variable = 1\n",
    "third_variable = 2\n",
    "# Recommended\n",
    "total = (first_variable\n",
    "         + second_variable\n",
    "         - third_variable)\n",
    "\n",
    "# Not Recommended\n",
    "total = (first_variable +\n",
    "         second_variable -\n",
    "         third_variable)"
   ]
  },
  {
   "cell_type": "markdown",
   "metadata": {},
   "source": [
    "### Indentation"
   ]
  },
  {
   "cell_type": "markdown",
   "metadata": {},
   "source": [
    "The key indentation rules laid out by PEP 8 are the following:\n",
    "\n",
    "- Use **4 consecutive spaces** to indicate indentation.\n",
    "- Prefer spaces over tabs."
   ]
  },
  {
   "cell_type": "markdown",
   "metadata": {},
   "source": [
    "### Tabs vs. Spaces"
   ]
  },
  {
   "cell_type": "markdown",
   "metadata": {},
   "source": [
    "You should **use spaces** instead of tabs when indenting code."
   ]
  },
  {
   "cell_type": "markdown",
   "metadata": {},
   "source": [
    "If you’re using Python 2 and have used a mixture of tabs and spaces to indent your code, you won’t see errors when trying to run it. To help you to check consistency, you can add a `-t` flag when running Python 2 code from the command line"
   ]
  },
  {
   "cell_type": "markdown",
   "metadata": {},
   "source": [
    "```sh\n",
    "python2 -t code.py\n",
    "```"
   ]
  },
  {
   "cell_type": "markdown",
   "metadata": {},
   "source": [
    "### Indentation Following Line Breaks"
   ]
  },
  {
   "cell_type": "code",
   "execution_count": 3,
   "metadata": {},
   "outputs": [],
   "source": [
    "def function(arg_one, arg_two,\n",
    "             arg_three, arg_four):\n",
    "    return arg_one"
   ]
  },
  {
   "cell_type": "markdown",
   "metadata": {},
   "source": [
    "Add a **comment** after the final condition. Due to syntax highlighting in most editors, this will separate the conditions from the nested code:"
   ]
  },
  {
   "cell_type": "code",
   "execution_count": 4,
   "metadata": {},
   "outputs": [
    {
     "name": "stdout",
     "output_type": "stream",
     "text": [
      "5\n"
     ]
    }
   ],
   "source": [
    "x = 5\n",
    "if (x > 3 and\n",
    "    x < 10):\n",
    "    # Both conditions satisfied\n",
    "    print(x)"
   ]
  },
  {
   "cell_type": "markdown",
   "metadata": {},
   "source": [
    "Add extra **indentation** on the line continuation:"
   ]
  },
  {
   "cell_type": "code",
   "execution_count": 5,
   "metadata": {},
   "outputs": [
    {
     "name": "stdout",
     "output_type": "stream",
     "text": [
      "5\n"
     ]
    }
   ],
   "source": [
    "x = 5\n",
    "if (x > 3 and\n",
    "        x < 10):\n",
    "    print(x)"
   ]
  },
  {
   "cell_type": "code",
   "execution_count": 6,
   "metadata": {},
   "outputs": [],
   "source": [
    "# Not Recommended\n",
    "def function(\n",
    "    arg_one, arg_two,\n",
    "    arg_three, arg_four):\n",
    "    return arg_one"
   ]
  },
  {
   "cell_type": "code",
   "execution_count": 7,
   "metadata": {},
   "outputs": [],
   "source": [
    "# Recommended\n",
    "def function(\n",
    "        arg_one, arg_two,\n",
    "        arg_three, arg_four):\n",
    "    return arg_one"
   ]
  },
  {
   "cell_type": "markdown",
   "metadata": {},
   "source": [
    "### Where to Put the Closing Brace"
   ]
  },
  {
   "cell_type": "markdown",
   "metadata": {},
   "source": [
    "As always, consistency is key, so try to stick to a method"
   ]
  },
  {
   "cell_type": "markdown",
   "metadata": {},
   "source": [
    "### Comments"
   ]
  },
  {
   "cell_type": "raw",
   "metadata": {},
   "source": [
    "“If the implementation is hard to explain, it’s a bad idea.”\n",
    "\n",
    "— The Zen of Python —"
   ]
  },
  {
   "cell_type": "code",
   "execution_count": null,
   "metadata": {},
   "outputs": [],
   "source": []
  }
 ],
 "metadata": {
  "kernelspec": {
   "display_name": "Python 3",
   "language": "python",
   "name": "python3"
  },
  "language_info": {
   "codemirror_mode": {
    "name": "ipython",
    "version": 3
   },
   "file_extension": ".py",
   "mimetype": "text/x-python",
   "name": "python",
   "nbconvert_exporter": "python",
   "pygments_lexer": "ipython3",
   "version": "3.6.8"
  }
 },
 "nbformat": 4,
 "nbformat_minor": 2
}
