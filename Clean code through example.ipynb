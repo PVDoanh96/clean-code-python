{
 "cells": [
  {
   "cell_type": "markdown",
   "metadata": {},
   "source": [
    "# Beautiful code python"
   ]
  },
  {
   "cell_type": "markdown",
   "metadata": {},
   "source": [
    "## Install"
   ]
  },
  {
   "cell_type": "markdown",
   "metadata": {},
   "source": [
    "### Virtualenv\n",
    "\n",
    "```sh\n",
    "sudo apt-get install python3-pip\n",
    "sudo pip3 install virtualenv \n",
    "\n",
    "#using \n",
    "virtuelenv -p python3 venv3\n",
    "\n",
    "#active\n",
    "source venv3/bin/activate\n",
    "\n",
    "#deactivate\n",
    "deactivate\n",
    "```"
   ]
  },
  {
   "cell_type": "markdown",
   "metadata": {},
   "source": [
    "### Library basic\n",
    "\n",
    "- Numpy\n",
    "```sh\n",
    "$ pip install numpy\n",
    "```\n",
    "\n",
    "- PIL/Pillow\n",
    "```sh\n",
    "$ pip install Pillow==2.2.2\n",
    "```\n",
    "\n",
    "\n",
    "- Matplotlib\n",
    "```sh\n",
    "$ pip install matplotlib\n",
    "```\n",
    "\n",
    "- OpenCV\n",
    "```sh\n",
    "$ pip install opencv-python\n",
    "```\n",
    "\n",
    "\n",
    "- scikit-image\n",
    "```sh\n",
    "$ pip install scikit-image\n",
    "```\n",
    "\n",
    "\n",
    "- scipy\n",
    "```sh\n",
    "$ pip install scipy\n",
    "```"
   ]
  },
  {
   "cell_type": "markdown",
   "metadata": {},
   "source": [
    "## Writing Great Python Code¶\n",
    "___"
   ]
  },
  {
   "cell_type": "markdown",
   "metadata": {},
   "source": [
    "### Sample Repository"
   ]
  },
  {
   "cell_type": "raw",
   "metadata": {},
   "source": [
    ".\n",
    "├── LICENSE                -> Lawyering up.\n",
    "├── Makefile               -> Generic management tasks.\n",
    "├── README.md              -> Description for repo.\n",
    "├── requirements.txt       -> Development dependencies.\n",
    "├── setup.py               -> Package and distribution management.\n",
    "├── sample                 -> The code of interest.\n",
    "│   ├── core.py\n",
    "│   └── helpers.py\n",
    "├── docs                   -> Package reference documentation.\n",
    "│   ├── conf.py\n",
    "│   ├── index.rst\n",
    "└── tests                  -> Package integration and unit tests.\n",
    "    ├── test_advanced.py\n",
    "    └── test_basic.py"
   ]
  },
  {
   "cell_type": "markdown",
   "metadata": {},
   "source": [
    "### Naming Styles"
   ]
  },
  {
   "cell_type": "markdown",
   "metadata": {},
   "source": [
    " Type        | Examble           \n",
    " ------------- |:-------------:\n",
    " Function      | function, my_function\n",
    " Variable      | x, var, my_variable      \n",
    " Class  | Model, MyClass      \n",
    " Method      | class_method, method\n",
    " Constant      | CONSTANT, MY_CONSTANT, MY_LONG_CONSTANT      \n",
    " Module | module.py, my_module.py    \n",
    " Package | package, mypackage"
   ]
  },
  {
   "cell_type": "markdown",
   "metadata": {},
   "source": [
    "### How to Choose Names"
   ]
  },
  {
   "cell_type": "code",
   "execution_count": 1,
   "metadata": {},
   "outputs": [
    {
     "name": "stdout",
     "output_type": "stream",
     "text": [
      "Smith, John\n",
      "Smith, John\n"
     ]
    }
   ],
   "source": [
    "# Not recommended\n",
    "x = 'John Smith'\n",
    "y, z = x.split()\n",
    "print(z, y, sep=', ')\n",
    "\n",
    "\n",
    "# Recommended\n",
    "name = 'John Smith'\n",
    "first_name, last_name = name.split()\n",
    "print(last_name, first_name, sep=', ')\n"
   ]
  },
  {
   "cell_type": "code",
   "execution_count": 2,
   "metadata": {},
   "outputs": [],
   "source": [
    "# Not recommended\n",
    "def db(x):\n",
    "    return x * 2\n",
    "\n",
    "# Recommended\n",
    "def multiply_by_two(x):\n",
    "    return x * 2"
   ]
  },
  {
   "cell_type": "markdown",
   "metadata": {},
   "source": [
    "## Code Layout"
   ]
  },
  {
   "cell_type": "markdown",
   "metadata": {},
   "source": [
    "### Modules"
   ]
  },
  {
   "cell_type": "markdown",
   "metadata": {},
   "source": [
    "```python \n",
    "# Recommended\n",
    "import library.plugin.foo\n",
    "\n",
    "# Not Recommended\n",
    "import library.foo_plugin\n",
    "```"
   ]
  },
  {
   "cell_type": "markdown",
   "metadata": {},
   "source": [
    "\n",
    "- Very bad\n",
    "```python\n",
    "[...]\n",
    "from modu import *\n",
    "[...]\n",
    "x = sqrt(4)  # Is sqrt part of modu? A builtin? Defined above?\n",
    "```\n",
    "- Better\n",
    "```python\n",
    "from modu import sqrt\n",
    "[...]\n",
    "x = sqrt(4)  # sqrt may be part of modu, if not redefined in between\n",
    "```\n",
    "- Best\n",
    "```python\n",
    "import modu\n",
    "[...]\n",
    "x = modu.sqrt(4)  # sqrt is visibly part of modu's namespace\n",
    "```"
   ]
  },
  {
   "cell_type": "markdown",
   "metadata": {},
   "source": [
    "### Mutable and immutable types"
   ]
  },
  {
   "cell_type": "markdown",
   "metadata": {},
   "source": [
    "- Bad\n",
    "```python\n",
    "# create a concatenated string from 0 to 19 (e.g. \"012..1819\")\n",
    "nums = \"\"\n",
    "for n in range(20):\n",
    "    nums += str(n)   # slow and inefficient\n",
    "print nums\n",
    "```\n",
    "\n",
    "- Better\n",
    "```python\n",
    "# create a concatenated string from 0 to 19 (e.g. \"012..1819\")\n",
    "nums = []\n",
    "for n in range(20):\n",
    "    nums.append(str(n))\n",
    "print \"\".join(nums)  # much more efficient\n",
    "```\n",
    "\n",
    "- Best\n",
    "```python\n",
    "# create a concatenated string from 0 to 19 (e.g. \"012..1819\")\n",
    "nums = [str(n) for n in range(20)]\n",
    "print \"\".join(nums)\n",
    "```"
   ]
  },
  {
   "cell_type": "markdown",
   "metadata": {},
   "source": []
  },
  {
   "cell_type": "markdown",
   "metadata": {},
   "source": [
    "### Blank Lines\n",
    "\n",
    "Surround top-level functions and classes with **two blank** lines."
   ]
  },
  {
   "cell_type": "code",
   "execution_count": 3,
   "metadata": {},
   "outputs": [],
   "source": [
    "class MyFirstClass:\n",
    "    pass\n",
    "\n",
    "\n",
    "class MySecondClass:\n",
    "    pass\n",
    "\n",
    "\n",
    "def top_level_function():\n",
    "    return None"
   ]
  },
  {
   "cell_type": "markdown",
   "metadata": {},
   "source": [
    "Surround method definitions inside classes with a **single blank** line."
   ]
  },
  {
   "cell_type": "code",
   "execution_count": 4,
   "metadata": {},
   "outputs": [],
   "source": [
    "class MyClass:\n",
    "    def first_method(self):\n",
    "        return None\n",
    "\n",
    "    def second_method(self):\n",
    "        return None"
   ]
  },
  {
   "cell_type": "markdown",
   "metadata": {},
   "source": [
    "Use blank lines sparingly inside functions to show clear steps."
   ]
  },
  {
   "cell_type": "code",
   "execution_count": 5,
   "metadata": {},
   "outputs": [],
   "source": [
    "def calculate_variance(number_list):\n",
    "    sum_list = 0\n",
    "    for number in number_list:\n",
    "        sum_list = sum_list + number\n",
    "    mean = sum_list / len(number_list)\n",
    "\n",
    "    sum_squares = 0\n",
    "    for number in number_list:\n",
    "        sum_squares = sum_squares + number**2\n",
    "    mean_squares = sum_squares / len(number_list)\n",
    "\n",
    "    return mean_squares - mean**2"
   ]
  },
  {
   "cell_type": "markdown",
   "metadata": {},
   "source": [
    "### Maximum Line Length and Line Breaking"
   ]
  },
  {
   "cell_type": "markdown",
   "metadata": {},
   "source": [
    "***PEP 8*** suggests lines should be limited to ***79 characters***."
   ]
  },
  {
   "cell_type": "code",
   "execution_count": 6,
   "metadata": {},
   "outputs": [],
   "source": [
    "from numpy import arange, \\\n",
    "    cos, sin\n",
    "\n",
    "\n",
    "def function(arg_one, arg_two,\n",
    "             arg_three, arg_four):\n",
    "    return arg_one"
   ]
  },
  {
   "cell_type": "markdown",
   "metadata": {},
   "source": [
    "Rule stems from mathematics"
   ]
  },
  {
   "cell_type": "code",
   "execution_count": 7,
   "metadata": {},
   "outputs": [],
   "source": [
    "first_variable = 0\n",
    "second_variable = 1\n",
    "third_variable = 2\n",
    "# Recommended\n",
    "total = (first_variable\n",
    "         + second_variable\n",
    "         - third_variable)\n",
    "\n",
    "# Not Recommended\n",
    "total = (first_variable +\n",
    "         second_variable -\n",
    "         third_variable)"
   ]
  },
  {
   "cell_type": "markdown",
   "metadata": {},
   "source": [
    "### Indentation"
   ]
  },
  {
   "cell_type": "markdown",
   "metadata": {},
   "source": [
    "The key indentation rules laid out by PEP 8 are the following:\n",
    "\n",
    "- Use **4 consecutive spaces** to indicate indentation.\n",
    "- Prefer spaces over tabs."
   ]
  },
  {
   "cell_type": "markdown",
   "metadata": {},
   "source": [
    "### Tabs vs. Spaces"
   ]
  },
  {
   "cell_type": "markdown",
   "metadata": {},
   "source": [
    "You should **use spaces** instead of tabs when indenting code."
   ]
  },
  {
   "cell_type": "markdown",
   "metadata": {},
   "source": [
    "If you’re using Python 2 and have used a mixture of tabs and spaces to indent your code, you won’t see errors when trying to run it. To help you to check consistency, you can add a `-t` flag when running Python 2 code from the command line"
   ]
  },
  {
   "cell_type": "markdown",
   "metadata": {},
   "source": [
    "```sh\n",
    "python2 -t code.py\n",
    "```"
   ]
  },
  {
   "cell_type": "markdown",
   "metadata": {},
   "source": [
    "### Indentation Following Line Breaks"
   ]
  },
  {
   "cell_type": "code",
   "execution_count": 8,
   "metadata": {},
   "outputs": [],
   "source": [
    "def function(arg_one, arg_two,\n",
    "             arg_three, arg_four):\n",
    "    return arg_one"
   ]
  },
  {
   "cell_type": "markdown",
   "metadata": {},
   "source": [
    "Add a **comment** after the final condition. Due to syntax highlighting in most editors, this will separate the conditions from the nested code:"
   ]
  },
  {
   "cell_type": "code",
   "execution_count": 9,
   "metadata": {},
   "outputs": [
    {
     "name": "stdout",
     "output_type": "stream",
     "text": [
      "5\n"
     ]
    }
   ],
   "source": [
    "x = 5\n",
    "if (x > 3 and\n",
    "    x < 10):\n",
    "    # Both conditions satisfied\n",
    "    print(x)"
   ]
  },
  {
   "cell_type": "markdown",
   "metadata": {},
   "source": [
    "Add extra **indentation** on the line continuation:"
   ]
  },
  {
   "cell_type": "code",
   "execution_count": 10,
   "metadata": {},
   "outputs": [
    {
     "name": "stdout",
     "output_type": "stream",
     "text": [
      "5\n"
     ]
    }
   ],
   "source": [
    "x = 5\n",
    "if (x > 3 and\n",
    "        x < 10):\n",
    "    print(x)"
   ]
  },
  {
   "cell_type": "code",
   "execution_count": 11,
   "metadata": {},
   "outputs": [],
   "source": [
    "# Not Recommended\n",
    "def function(\n",
    "    arg_one, arg_two,\n",
    "    arg_three, arg_four):\n",
    "    return arg_one"
   ]
  },
  {
   "cell_type": "code",
   "execution_count": 12,
   "metadata": {},
   "outputs": [],
   "source": [
    "# Recommended\n",
    "def function(\n",
    "        arg_one, arg_two,\n",
    "        arg_three, arg_four):\n",
    "    return arg_one"
   ]
  },
  {
   "cell_type": "markdown",
   "metadata": {},
   "source": [
    "### Where to Put the Closing Brace\n"
   ]
  },
  {
   "cell_type": "markdown",
   "metadata": {},
   "source": [
    "As always, consistency is key, so try to stick to a method"
   ]
  },
  {
   "cell_type": "markdown",
   "metadata": {},
   "source": [
    "### Comments\n",
    "\n",
    "“If the implementation is hard to explain, it’s a bad idea.”"
   ]
  },
  {
   "cell_type": "markdown",
   "metadata": {},
   "source": [
    "Key points to remember when adding comments to your code:\n",
    "- Limit the line length of comments and docstrings to 72 characters.\n",
    "- Use complete sentences, starting with a capital letter.\n",
    "- Make sure to update comments if you change your code."
   ]
  },
  {
   "cell_type": "markdown",
   "metadata": {},
   "source": [
    "### Block Comments"
   ]
  },
  {
   "cell_type": "markdown",
   "metadata": {},
   "source": [
    "PEP 8 provides the following rules for writing block comments:\n",
    "\n",
    "- Indent block comments to the same level as the code they describe.\n",
    "- Start each line with a # followed by a single space.\n",
    "- Separate paragraphs by a line containing a single #."
   ]
  },
  {
   "cell_type": "markdown",
   "metadata": {},
   "source": [
    "### Inline Comments"
   ]
  },
  {
   "cell_type": "markdown",
   "metadata": {},
   "source": [
    "- Use inline comments sparingly.\n",
    "- Write inline comments on the same line as the statement they refer to.\n",
    "- Separate inline comments by two or more spaces from the statement.\n",
    "- Start inline comments with a # and a single space, like block comments.\n",
    "- Don’t use them to explain the obvious."
   ]
  },
  {
   "cell_type": "markdown",
   "metadata": {},
   "source": [
    "### Documentation Strings"
   ]
  },
  {
   "cell_type": "markdown",
   "metadata": {},
   "source": [
    "The most important rules applying to docstrings are the following:\n",
    "\n",
    "- Surround docstrings with three double quotes on either side, as in \"\"\"This is a docstring\"\"\".\n",
    "\n",
    "- Write them for all public modules, functions, classes, and methods.\n",
    "\n",
    "- Put the \"\"\" that ends a multiline docstring on a line by itself:"
   ]
  },
  {
   "cell_type": "code",
   "execution_count": 13,
   "metadata": {},
   "outputs": [],
   "source": [
    "def quadratic(a, b, c, x):\n",
    "    \"\"\"Solve quadratic equation via the quadratic formula.\n",
    "\n",
    "    A quadratic equation has the following form:\n",
    "    ax**2 + bx + c = 0\n",
    "\n",
    "    There always two solutions to a quadratic equation: x_1 & x_2.\n",
    "    \"\"\"\n",
    "    x_1 = (- b+(b**2-4*a*c)**(1/2)) / (2*a)\n",
    "    x_2 = (- b-(b**2-4*a*c)**(1/2)) / (2*a)\n",
    "\n",
    "    return x_1, x_2"
   ]
  },
  {
   "cell_type": "markdown",
   "metadata": {},
   "source": [
    "- For one-line docstrings, keep the \"\"\" on the same line:"
   ]
  },
  {
   "cell_type": "code",
   "execution_count": 14,
   "metadata": {},
   "outputs": [],
   "source": [
    "def quadratic(a, b, c, x):\n",
    "    \"\"\"Use the quadratic formula\"\"\"\n",
    "    x_1 = (- b+(b**2-4*a*c)**(1/2)) / (2*a)\n",
    "    x_2 = (- b-(b**2-4*a*c)**(1/2)) / (2*a)\n",
    "\n",
    "    return x_1, x_2"
   ]
  },
  {
   "cell_type": "markdown",
   "metadata": {},
   "source": [
    "### Whitespace in Expressions and Statements"
   ]
  },
  {
   "cell_type": "code",
   "execution_count": 15,
   "metadata": {},
   "outputs": [],
   "source": [
    "# Recommended\n",
    "def function1(default_parameter=5):\n",
    "    pass\n",
    "\n",
    "\n",
    "# Not recommended\n",
    "def function2(default_parameter = 5):\n",
    "    pass"
   ]
  },
  {
   "cell_type": "code",
   "execution_count": 16,
   "metadata": {},
   "outputs": [],
   "source": [
    "x = 1\n",
    "y = 2\n",
    "# Recommended\n",
    "y = x**2 + 5\n",
    "z = (x+y) * (x-y)\n",
    "\n",
    "# Not Recommended\n",
    "y = x ** 2 + 5\n",
    "z = (x + y) * (x - y)"
   ]
  },
  {
   "cell_type": "code",
   "execution_count": 17,
   "metadata": {},
   "outputs": [],
   "source": [
    "# Not recommended\n",
    "if x > 5 and x % 2 == 0:\n",
    "    print('x is larger than 5 and divisible by 2!')\n",
    "    \n",
    "# Recommended\n",
    "if x>5 and x%2==0:\n",
    "    print('x is larger than 5 and divisible by 2!')\n",
    "    \n",
    "# Definitely do not do this! :v\n",
    "if x >5 and x% 2== 0:\n",
    "    print('x is larger than 5 and divisible by 2!')"
   ]
  },
  {
   "cell_type": "markdown",
   "metadata": {},
   "source": [
    "In summary, you should surround most operators with whitespace. However, there are some caveats to this rule, such as in function arguments or when you’re combining multiple operators in one statement."
   ]
  },
  {
   "cell_type": "markdown",
   "metadata": {},
   "source": [
    "### Avoid Adding Whitespace"
   ]
  },
  {
   "cell_type": "code",
   "execution_count": 18,
   "metadata": {},
   "outputs": [],
   "source": [
    "# Recommended\n",
    "my_list = [1, 2, 3]\n",
    "\n",
    "# Not recommended\n",
    "my_list = [ 1, 2, 3, ]"
   ]
  },
  {
   "cell_type": "code",
   "execution_count": 19,
   "metadata": {},
   "outputs": [
    {
     "name": "stdout",
     "output_type": "stream",
     "text": [
      "5 6\n",
      "5 6\n"
     ]
    }
   ],
   "source": [
    "x = 5\n",
    "y = 6\n",
    "\n",
    "# Recommended\n",
    "print(x, y)\n",
    "\n",
    "# Not recommended\n",
    "print(x , y)"
   ]
  },
  {
   "cell_type": "code",
   "execution_count": 20,
   "metadata": {},
   "outputs": [
    {
     "data": {
      "text/plain": [
       "6"
      ]
     },
     "execution_count": 20,
     "metadata": {},
     "output_type": "execute_result"
    }
   ],
   "source": [
    "def double(x):\n",
    "    return x * 2\n",
    "\n",
    "# Recommended\n",
    "double(3)\n",
    "\n",
    "# Not recommended\n",
    "double (3)"
   ]
  },
  {
   "cell_type": "code",
   "execution_count": 21,
   "metadata": {},
   "outputs": [
    {
     "data": {
      "text/plain": [
       "6"
      ]
     },
     "execution_count": 21,
     "metadata": {},
     "output_type": "execute_result"
    }
   ],
   "source": [
    "def double(x):\n",
    "    return x * 2\n",
    "\n",
    "# Recommended\n",
    "double(3)\n",
    "\n",
    "# Not recommended\n",
    "double (3)"
   ]
  },
  {
   "cell_type": "code",
   "execution_count": 22,
   "metadata": {},
   "outputs": [],
   "source": [
    "# Recommended\n",
    "tuple = (1,)\n",
    "\n",
    "# Not recommended\n",
    "tuple = (1, )"
   ]
  },
  {
   "cell_type": "code",
   "execution_count": 23,
   "metadata": {},
   "outputs": [],
   "source": [
    "# Recommended\n",
    "var1 = 5\n",
    "var2 = 6\n",
    "some_long_var = 7\n",
    "\n",
    "# Not recommended\n",
    "var1          = 5\n",
    "var2          = 6\n",
    "some_long_var = 7"
   ]
  },
  {
   "cell_type": "markdown",
   "metadata": {},
   "source": [
    "### Programming Recommendations"
   ]
  },
  {
   "cell_type": "markdown",
   "metadata": {},
   "source": [
    "``` \"Simple is better than complex\" ```"
   ]
  },
  {
   "cell_type": "markdown",
   "metadata": {},
   "source": [
    "Don’t compare boolean values to True or False using the equivalence operator"
   ]
  },
  {
   "cell_type": "code",
   "execution_count": 24,
   "metadata": {},
   "outputs": [],
   "source": [
    "def compare():\n",
    "    # Not recommended\n",
    "    my_bool = 6 > 5\n",
    "    if my_bool == True:\n",
    "        return '6 is bigger than 5'\n",
    "\n",
    "    # Recommended\n",
    "    if my_bool:\n",
    "        return '6 is bigger than 5'"
   ]
  },
  {
   "cell_type": "markdown",
   "metadata": {},
   "source": [
    "Use the fact that empty sequences are falsy in if statements."
   ]
  },
  {
   "cell_type": "code",
   "execution_count": 25,
   "metadata": {},
   "outputs": [
    {
     "name": "stdout",
     "output_type": "stream",
     "text": [
      "List is empty!\n",
      "List is empty!\n"
     ]
    }
   ],
   "source": [
    "# Not recommended\n",
    "my_list = []\n",
    "if not len(my_list):\n",
    "    print('List is empty!')\n",
    "\n",
    "# Recommended \n",
    "if not my_list:\n",
    "    print('List is empty!')"
   ]
  },
  {
   "cell_type": "markdown",
   "metadata": {},
   "source": [
    "Use is not rather than not ... is in if statements."
   ]
  },
  {
   "cell_type": "code",
   "execution_count": 26,
   "metadata": {},
   "outputs": [],
   "source": [
    "def isnot_or_not_is():\n",
    "    # Recommeabsnded\n",
    "    if x is not None:\n",
    "        return 'x exists!'\n",
    "\n",
    "    # Not recommended\n",
    "    if not x is None:\n",
    "        return 'x exists!'"
   ]
  },
  {
   "cell_type": "markdown",
   "metadata": {},
   "source": [
    "Use .startswith() and .endswith() instead of slicing."
   ]
  },
  {
   "cell_type": "code",
   "execution_count": 27,
   "metadata": {},
   "outputs": [
    {
     "name": "stdout",
     "output_type": "stream",
     "text": [
      "The word starts with \"cat\"\n",
      "The word starts with \"cat\"\n"
     ]
    }
   ],
   "source": [
    "word = 'cat is dog'\n",
    "# Not recommended\n",
    "if word[:3] == 'cat':\n",
    "    print('The word starts with \"cat\"')\n",
    "    \n",
    "# Recommended\n",
    "if word.startswith('cat'):\n",
    "    print('The word starts with \"cat\"')"
   ]
  },
  {
   "cell_type": "code",
   "execution_count": 28,
   "metadata": {},
   "outputs": [
    {
     "name": "stdout",
     "output_type": "stream",
     "text": [
      "The file is a JPEG\n",
      "The file is a JPEG\n"
     ]
    }
   ],
   "source": [
    "file_name = 'thisisfilename.jpg'\n",
    "# Not recommended\n",
    "if file_name[-3:] == 'jpg':\n",
    "    print('The file is a JPEG')\n",
    "    \n",
    "\n",
    "# Recommended\n",
    "if file_name.endswith('jpg'):\n",
    "    print('The file is a JPEG')"
   ]
  },
  {
   "cell_type": "markdown",
   "metadata": {},
   "source": [
    "### Tips and Tricks for Your code follows PEP 8"
   ]
  },
  {
   "cell_type": "markdown",
   "metadata": {},
   "source": [
    "- **pycodestyle** is a tool to check your Python code against some of the style conventions in PEP 8.\n",
    "\n",
    "```sh\n",
    "$ pip install pycodestyle\n",
    "$ pycodestyle code.py\n",
    "code.py:1:17: E231 missing whitespace after ','\n",
    "code.py:2:21: E231 missing whitespace after ','\n",
    "code.py:6:19: E711 comparison to None should be 'if cond is None:'\n",
    "```"
   ]
  },
  {
   "cell_type": "markdown",
   "metadata": {},
   "source": [
    "- **flake8** is a tool that combines a debugger\n",
    "\n",
    "```sh\n",
    "$ pip install flake8\n",
    "$ flake8 code.py\n",
    "code.py:1:17: E231 missing whitespace after ','\n",
    "code.py:2:21: E231 missing whitespace after ','\n",
    "code.py:3:17: E999 SyntaxError: invalid syntax\n",
    "code.py:6:19: E711 comparison to None should be 'if cond is None:'\n",
    "```"
   ]
  },
  {
   "cell_type": "markdown",
   "metadata": {},
   "source": []
  },
  {
   "cell_type": "code",
   "execution_count": null,
   "metadata": {},
   "outputs": [],
   "source": []
  }
 ],
 "metadata": {
  "kernelspec": {
   "display_name": "Python 3",
   "language": "python",
   "name": "python3"
  },
  "language_info": {
   "codemirror_mode": {
    "name": "ipython",
    "version": 3
   },
   "file_extension": ".py",
   "mimetype": "text/x-python",
   "name": "python",
   "nbconvert_exporter": "python",
   "pygments_lexer": "ipython3",
   "version": "3.5.2"
  }
 },
 "nbformat": 4,
 "nbformat_minor": 2
}
